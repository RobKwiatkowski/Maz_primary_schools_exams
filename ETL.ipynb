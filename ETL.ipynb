{
 "cells": [
  {
   "cell_type": "code",
   "execution_count": 1,
   "metadata": {
    "collapsed": true,
    "ExecuteTime": {
     "end_time": "2023-10-10T13:10:31.739492700Z",
     "start_time": "2023-10-10T13:10:31.353944700Z"
    }
   },
   "outputs": [],
   "source": [
    "import pandas as pd\n",
    "import numpy as np"
   ]
  },
  {
   "cell_type": "code",
   "execution_count": 4,
   "outputs": [
    {
     "data": {
      "text/plain": "     Unnamed: 0           Unnamed: 1      Unnamed: 2               Unnamed: 3  \\\n0        ID OKE  województwo - nazwa  powiat - nazwa  Gmina/Dzielnica - nazwa   \n1             7          Mazowieckie    Białobrzeski              Białobrzegi   \n2             7          Mazowieckie    Białobrzeski              Białobrzegi   \n3             7          Mazowieckie    Białobrzeski                   Promna   \n4             7          Mazowieckie    Białobrzeski                   Promna   \n...         ...                  ...             ...                      ...   \n1684          7          Mazowieckie     Żyrardowski                 Żyrardów   \n1685          7          Mazowieckie     Żyrardowski                 Żyrardów   \n1686          7          Mazowieckie     Żyrardowski                 Żyrardów   \n1687          7          Mazowieckie     Żyrardowski                 Żyrardów   \n1688          7          Mazowieckie     Żyrardowski                 Żyrardów   \n\n          Unnamed: 4       Unnamed: 5 Unnamed: 6         Unnamed: 7  \\\n0          Typ gminy  Kod teryt gminy       RSPO  rodzaj placówki\\n   \n1     Obszar wiejski          1401015      53424      dla młodzieży   \n2             Miasto          1401014      53602      dla młodzieży   \n3      Gmina wiejska          1401022      26129      dla młodzieży   \n4      Gmina wiejska          1401022      31929      dla młodzieży   \n...              ...              ...        ...                ...   \n1684   Gmina miejska          1438011      31353      dla młodzieży   \n1685   Gmina miejska          1438011      42560      dla młodzieży   \n1686   Gmina miejska          1438011      29970      dla młodzieży   \n1687   Gmina miejska          1438011      30368      dla młodzieży   \n1688   Gmina miejska          1438011     264325      dla młodzieży   \n\n         Unnamed: 8                                         Unnamed: 9  ...  \\\n0     czy publiczna                                       Nazwa szkoły  ...   \n1               Tak  PUBLICZNA SZKOŁA PODSTAWOWA IM. JANUSZA KORCZA...  ...   \n2               Tak  PUBLICZNA SZKOŁA PODSTAWOWA NR 1 IM. KOMISJI E...  ...   \n3               Tak  PUBLICZNA SZKOŁA PODSTAWOWA IM. MARII KONOPNIC...  ...   \n4               Tak  PUBLICZNA SZKOŁA PODSTAWOWA IM. WŁADYSŁAWA ROS...  ...   \n...             ...                                                ...  ...   \n1684            Tak  SZKOŁA PODSTAWOWA NR 4 IM. MIKOŁAJA REJA W ŻYR...  ...   \n1685            Nie  SPOŁECZNA SZKOŁA PODSTAWOWA NR 2 IM. PAWŁA HUL...  ...   \n1686            Tak  SZKOŁA PODSTAWOWA NR 1 Z ODDZIAŁAMI INTEGRACYJ...  ...   \n1687            Tak  SZKOŁA PODSTAWOWA NR 2 IM. MARII KONOPNICKIEJ ...  ...   \n1688            Nie  NIEPUBLICZNA SZKOŁA PODSTAWOWA NR 1 IM. KRZYSZ...  ...   \n\n        język rosyjski       Unnamed: 43                 Unnamed: 44  \\\n0     liczba zdających  wynik średni (%)  odchylenie standardowe (%)   \n1                  NaN               NaN                         NaN   \n2                  NaN               NaN                         NaN   \n3                    2               NaN                         NaN   \n4                    1               NaN                         NaN   \n...                ...               ...                         ...   \n1684               NaN               NaN                         NaN   \n1685               NaN               NaN                         NaN   \n1686               NaN               NaN                         NaN   \n1687               NaN               NaN                         NaN   \n1688               NaN               NaN                         NaN   \n\n      Unnamed: 45  Unnamed: 46      język włoski       Unnamed: 48  \\\n0     mediana (%)  modalna (%)  liczba zdających  wynik średni (%)   \n1             NaN          NaN               NaN               NaN   \n2             NaN          NaN               NaN               NaN   \n3             NaN          NaN               NaN               NaN   \n4             NaN          NaN               NaN               NaN   \n...           ...          ...               ...               ...   \n1684          NaN          NaN               NaN               NaN   \n1685          NaN          NaN               NaN               NaN   \n1686          NaN          NaN               NaN               NaN   \n1687          NaN          NaN               NaN               NaN   \n1688          NaN          NaN               NaN               NaN   \n\n                     Unnamed: 49  Unnamed: 50  Unnamed: 51  \n0     odchylenie standardowe (%)  mediana (%)  modalna (%)  \n1                            NaN          NaN          NaN  \n2                            NaN          NaN          NaN  \n3                            NaN          NaN          NaN  \n4                            NaN          NaN          NaN  \n...                          ...          ...          ...  \n1684                         NaN          NaN          NaN  \n1685                         NaN          NaN          NaN  \n1686                         NaN          NaN          NaN  \n1687                         NaN          NaN          NaN  \n1688                         NaN          NaN          NaN  \n\n[1689 rows x 52 columns]",
      "text/html": "<div>\n<style scoped>\n    .dataframe tbody tr th:only-of-type {\n        vertical-align: middle;\n    }\n\n    .dataframe tbody tr th {\n        vertical-align: top;\n    }\n\n    .dataframe thead th {\n        text-align: right;\n    }\n</style>\n<table border=\"1\" class=\"dataframe\">\n  <thead>\n    <tr style=\"text-align: right;\">\n      <th></th>\n      <th>Unnamed: 0</th>\n      <th>Unnamed: 1</th>\n      <th>Unnamed: 2</th>\n      <th>Unnamed: 3</th>\n      <th>Unnamed: 4</th>\n      <th>Unnamed: 5</th>\n      <th>Unnamed: 6</th>\n      <th>Unnamed: 7</th>\n      <th>Unnamed: 8</th>\n      <th>Unnamed: 9</th>\n      <th>...</th>\n      <th>język rosyjski</th>\n      <th>Unnamed: 43</th>\n      <th>Unnamed: 44</th>\n      <th>Unnamed: 45</th>\n      <th>Unnamed: 46</th>\n      <th>język włoski</th>\n      <th>Unnamed: 48</th>\n      <th>Unnamed: 49</th>\n      <th>Unnamed: 50</th>\n      <th>Unnamed: 51</th>\n    </tr>\n  </thead>\n  <tbody>\n    <tr>\n      <th>0</th>\n      <td>ID OKE</td>\n      <td>województwo - nazwa</td>\n      <td>powiat - nazwa</td>\n      <td>Gmina/Dzielnica - nazwa</td>\n      <td>Typ gminy</td>\n      <td>Kod teryt gminy</td>\n      <td>RSPO</td>\n      <td>rodzaj placówki\\n</td>\n      <td>czy publiczna</td>\n      <td>Nazwa szkoły</td>\n      <td>...</td>\n      <td>liczba zdających</td>\n      <td>wynik średni (%)</td>\n      <td>odchylenie standardowe (%)</td>\n      <td>mediana (%)</td>\n      <td>modalna (%)</td>\n      <td>liczba zdających</td>\n      <td>wynik średni (%)</td>\n      <td>odchylenie standardowe (%)</td>\n      <td>mediana (%)</td>\n      <td>modalna (%)</td>\n    </tr>\n    <tr>\n      <th>1</th>\n      <td>7</td>\n      <td>Mazowieckie</td>\n      <td>Białobrzeski</td>\n      <td>Białobrzegi</td>\n      <td>Obszar wiejski</td>\n      <td>1401015</td>\n      <td>53424</td>\n      <td>dla młodzieży</td>\n      <td>Tak</td>\n      <td>PUBLICZNA SZKOŁA PODSTAWOWA IM. JANUSZA KORCZA...</td>\n      <td>...</td>\n      <td>NaN</td>\n      <td>NaN</td>\n      <td>NaN</td>\n      <td>NaN</td>\n      <td>NaN</td>\n      <td>NaN</td>\n      <td>NaN</td>\n      <td>NaN</td>\n      <td>NaN</td>\n      <td>NaN</td>\n    </tr>\n    <tr>\n      <th>2</th>\n      <td>7</td>\n      <td>Mazowieckie</td>\n      <td>Białobrzeski</td>\n      <td>Białobrzegi</td>\n      <td>Miasto</td>\n      <td>1401014</td>\n      <td>53602</td>\n      <td>dla młodzieży</td>\n      <td>Tak</td>\n      <td>PUBLICZNA SZKOŁA PODSTAWOWA NR 1 IM. KOMISJI E...</td>\n      <td>...</td>\n      <td>NaN</td>\n      <td>NaN</td>\n      <td>NaN</td>\n      <td>NaN</td>\n      <td>NaN</td>\n      <td>NaN</td>\n      <td>NaN</td>\n      <td>NaN</td>\n      <td>NaN</td>\n      <td>NaN</td>\n    </tr>\n    <tr>\n      <th>3</th>\n      <td>7</td>\n      <td>Mazowieckie</td>\n      <td>Białobrzeski</td>\n      <td>Promna</td>\n      <td>Gmina wiejska</td>\n      <td>1401022</td>\n      <td>26129</td>\n      <td>dla młodzieży</td>\n      <td>Tak</td>\n      <td>PUBLICZNA SZKOŁA PODSTAWOWA IM. MARII KONOPNIC...</td>\n      <td>...</td>\n      <td>2</td>\n      <td>NaN</td>\n      <td>NaN</td>\n      <td>NaN</td>\n      <td>NaN</td>\n      <td>NaN</td>\n      <td>NaN</td>\n      <td>NaN</td>\n      <td>NaN</td>\n      <td>NaN</td>\n    </tr>\n    <tr>\n      <th>4</th>\n      <td>7</td>\n      <td>Mazowieckie</td>\n      <td>Białobrzeski</td>\n      <td>Promna</td>\n      <td>Gmina wiejska</td>\n      <td>1401022</td>\n      <td>31929</td>\n      <td>dla młodzieży</td>\n      <td>Tak</td>\n      <td>PUBLICZNA SZKOŁA PODSTAWOWA IM. WŁADYSŁAWA ROS...</td>\n      <td>...</td>\n      <td>1</td>\n      <td>NaN</td>\n      <td>NaN</td>\n      <td>NaN</td>\n      <td>NaN</td>\n      <td>NaN</td>\n      <td>NaN</td>\n      <td>NaN</td>\n      <td>NaN</td>\n      <td>NaN</td>\n    </tr>\n    <tr>\n      <th>...</th>\n      <td>...</td>\n      <td>...</td>\n      <td>...</td>\n      <td>...</td>\n      <td>...</td>\n      <td>...</td>\n      <td>...</td>\n      <td>...</td>\n      <td>...</td>\n      <td>...</td>\n      <td>...</td>\n      <td>...</td>\n      <td>...</td>\n      <td>...</td>\n      <td>...</td>\n      <td>...</td>\n      <td>...</td>\n      <td>...</td>\n      <td>...</td>\n      <td>...</td>\n      <td>...</td>\n    </tr>\n    <tr>\n      <th>1684</th>\n      <td>7</td>\n      <td>Mazowieckie</td>\n      <td>Żyrardowski</td>\n      <td>Żyrardów</td>\n      <td>Gmina miejska</td>\n      <td>1438011</td>\n      <td>31353</td>\n      <td>dla młodzieży</td>\n      <td>Tak</td>\n      <td>SZKOŁA PODSTAWOWA NR 4 IM. MIKOŁAJA REJA W ŻYR...</td>\n      <td>...</td>\n      <td>NaN</td>\n      <td>NaN</td>\n      <td>NaN</td>\n      <td>NaN</td>\n      <td>NaN</td>\n      <td>NaN</td>\n      <td>NaN</td>\n      <td>NaN</td>\n      <td>NaN</td>\n      <td>NaN</td>\n    </tr>\n    <tr>\n      <th>1685</th>\n      <td>7</td>\n      <td>Mazowieckie</td>\n      <td>Żyrardowski</td>\n      <td>Żyrardów</td>\n      <td>Gmina miejska</td>\n      <td>1438011</td>\n      <td>42560</td>\n      <td>dla młodzieży</td>\n      <td>Nie</td>\n      <td>SPOŁECZNA SZKOŁA PODSTAWOWA NR 2 IM. PAWŁA HUL...</td>\n      <td>...</td>\n      <td>NaN</td>\n      <td>NaN</td>\n      <td>NaN</td>\n      <td>NaN</td>\n      <td>NaN</td>\n      <td>NaN</td>\n      <td>NaN</td>\n      <td>NaN</td>\n      <td>NaN</td>\n      <td>NaN</td>\n    </tr>\n    <tr>\n      <th>1686</th>\n      <td>7</td>\n      <td>Mazowieckie</td>\n      <td>Żyrardowski</td>\n      <td>Żyrardów</td>\n      <td>Gmina miejska</td>\n      <td>1438011</td>\n      <td>29970</td>\n      <td>dla młodzieży</td>\n      <td>Tak</td>\n      <td>SZKOŁA PODSTAWOWA NR 1 Z ODDZIAŁAMI INTEGRACYJ...</td>\n      <td>...</td>\n      <td>NaN</td>\n      <td>NaN</td>\n      <td>NaN</td>\n      <td>NaN</td>\n      <td>NaN</td>\n      <td>NaN</td>\n      <td>NaN</td>\n      <td>NaN</td>\n      <td>NaN</td>\n      <td>NaN</td>\n    </tr>\n    <tr>\n      <th>1687</th>\n      <td>7</td>\n      <td>Mazowieckie</td>\n      <td>Żyrardowski</td>\n      <td>Żyrardów</td>\n      <td>Gmina miejska</td>\n      <td>1438011</td>\n      <td>30368</td>\n      <td>dla młodzieży</td>\n      <td>Tak</td>\n      <td>SZKOŁA PODSTAWOWA NR 2 IM. MARII KONOPNICKIEJ ...</td>\n      <td>...</td>\n      <td>NaN</td>\n      <td>NaN</td>\n      <td>NaN</td>\n      <td>NaN</td>\n      <td>NaN</td>\n      <td>NaN</td>\n      <td>NaN</td>\n      <td>NaN</td>\n      <td>NaN</td>\n      <td>NaN</td>\n    </tr>\n    <tr>\n      <th>1688</th>\n      <td>7</td>\n      <td>Mazowieckie</td>\n      <td>Żyrardowski</td>\n      <td>Żyrardów</td>\n      <td>Gmina miejska</td>\n      <td>1438011</td>\n      <td>264325</td>\n      <td>dla młodzieży</td>\n      <td>Nie</td>\n      <td>NIEPUBLICZNA SZKOŁA PODSTAWOWA NR 1 IM. KRZYSZ...</td>\n      <td>...</td>\n      <td>NaN</td>\n      <td>NaN</td>\n      <td>NaN</td>\n      <td>NaN</td>\n      <td>NaN</td>\n      <td>NaN</td>\n      <td>NaN</td>\n      <td>NaN</td>\n      <td>NaN</td>\n      <td>NaN</td>\n    </tr>\n  </tbody>\n</table>\n<p>1689 rows × 52 columns</p>\n</div>"
     },
     "execution_count": 4,
     "metadata": {},
     "output_type": "execute_result"
    }
   ],
   "source": [
    "pd.read_excel('data/2022.xlsx', sheet_name=1)"
   ],
   "metadata": {
    "collapsed": false,
    "ExecuteTime": {
     "end_time": "2023-10-10T13:11:04.984677800Z",
     "start_time": "2023-10-10T13:11:03.748578200Z"
    }
   }
  },
  {
   "cell_type": "markdown",
   "source": [
    "Create lists with column indexes for each group"
   ],
   "metadata": {
    "collapsed": false
   }
  },
  {
   "cell_type": "code",
   "execution_count": 5,
   "outputs": [],
   "source": [
    "schools = np.arange(0, 13).tolist()  # school data\n",
    "polski = np.arange(14, 17).tolist()  # polski data\n",
    "matematyka = np.arange(18, 22).tolist()  # matematyka data\n",
    "angielski = np.arange(23, 27).tolist()  # angielski data"
   ],
   "metadata": {
    "collapsed": false,
    "ExecuteTime": {
     "end_time": "2023-10-10T13:11:06.670360700Z",
     "start_time": "2023-10-10T13:11:06.664669400Z"
    }
   }
  },
  {
   "cell_type": "markdown",
   "source": [],
   "metadata": {
    "collapsed": false
   }
  },
  {
   "cell_type": "code",
   "execution_count": 6,
   "outputs": [],
   "source": [
    "df_raw_pol = pd.read_excel('data/2022.xlsx', sheet_name=1, skiprows=1, usecols=schools+polski)\n",
    "df_raw_mat = pd.read_excel('data/2022.xlsx', sheet_name=1, skiprows=1, usecols=schools+matematyka)\n",
    "df_raw_ang = pd.read_excel('data/2022.xlsx', sheet_name=1, skiprows=1, usecols=schools+angielski)"
   ],
   "metadata": {
    "collapsed": false,
    "ExecuteTime": {
     "end_time": "2023-10-10T13:11:11.761966700Z",
     "start_time": "2023-10-10T13:11:09.354746300Z"
    }
   }
  },
  {
   "cell_type": "code",
   "execution_count": 17,
   "outputs": [],
   "source": [
    "# col_names = ['odchylenie standardowe (%)', 'mediana (%)', 'modalna (%)']\n",
    "# tmp = df_raw_mat.columns\n",
    "# tmp"
   ],
   "metadata": {
    "collapsed": false,
    "ExecuteTime": {
     "end_time": "2023-10-10T13:17:17.545390400Z",
     "start_time": "2023-10-10T13:17:17.521389500Z"
    }
   }
  },
  {
   "cell_type": "code",
   "execution_count": 18,
   "outputs": [],
   "source": [
    "# tmp.str.replace(\"\\s\\((.*)\", \"\", regex=True)"
   ],
   "metadata": {
    "collapsed": false,
    "ExecuteTime": {
     "end_time": "2023-10-10T13:17:18.086018Z",
     "start_time": "2023-10-10T13:17:18.074989400Z"
    }
   }
  },
  {
   "cell_type": "code",
   "execution_count": 9,
   "outputs": [],
   "source": [
    "def add_prefix_to_subset(df: pd.DataFrame, prefix: str):\n",
    "    col_list = df.columns\n",
    "    df.columns = col_list.str.replace(\"\\s\\((.*)\", \"\", regex=True)\n",
    "    df.rename({'wynik średni': prefix+'wynik średni',\n",
    "               'odchylenie standardowe': prefix+'odchylenie standardowe',\n",
    "               'mediana': prefix+'mediana',\n",
    "               'modalna': prefix+'modalna'},\n",
    "              axis=1, inplace=True)"
   ],
   "metadata": {
    "collapsed": false,
    "ExecuteTime": {
     "end_time": "2023-10-10T13:11:28.453267Z",
     "start_time": "2023-10-10T13:11:28.445268Z"
    }
   }
  },
  {
   "cell_type": "code",
   "execution_count": 10,
   "outputs": [],
   "source": [
    "add_prefix_to_subset(df_raw_pol, 'pol_')\n",
    "add_prefix_to_subset(df_raw_mat, 'mat_')\n",
    "add_prefix_to_subset(df_raw_ang, 'ang_')"
   ],
   "metadata": {
    "collapsed": false,
    "ExecuteTime": {
     "end_time": "2023-10-10T13:11:29.434360200Z",
     "start_time": "2023-10-10T13:11:29.410839900Z"
    }
   }
  },
  {
   "cell_type": "code",
   "execution_count": 11,
   "outputs": [
    {
     "data": {
      "text/plain": "Index(['ID OKE', 'województwo - nazwa', 'powiat - nazwa',\n       'Gmina/Dzielnica - nazwa', 'Typ gminy', 'Kod teryt gminy', 'RSPO',\n       'rodzaj placówki\\n', 'czy publiczna', 'Nazwa szkoły', 'Miejscowość',\n       'Ulica nr', 'liczba zdających', 'ang_wynik średni',\n       'ang_odchylenie standardowe', 'ang_mediana', 'ang_modalna'],\n      dtype='object')"
     },
     "execution_count": 11,
     "metadata": {},
     "output_type": "execute_result"
    }
   ],
   "source": [
    "df_raw_ang.columns"
   ],
   "metadata": {
    "collapsed": false,
    "ExecuteTime": {
     "end_time": "2023-10-10T13:11:31.172380400Z",
     "start_time": "2023-10-10T13:11:31.148888500Z"
    }
   }
  },
  {
   "cell_type": "markdown",
   "source": [
    "Create a set of columns to merge on (equal to have a unique school identifier)."
   ],
   "metadata": {
    "collapsed": false
   }
  },
  {
   "cell_type": "code",
   "execution_count": 25,
   "outputs": [],
   "source": [
    "schools_col_names = df_raw_pol.columns[schools].to_list()"
   ],
   "metadata": {
    "collapsed": false,
    "ExecuteTime": {
     "end_time": "2023-10-10T13:20:02.254866500Z",
     "start_time": "2023-10-10T13:20:02.223910500Z"
    }
   }
  },
  {
   "cell_type": "code",
   "execution_count": 26,
   "outputs": [
    {
     "data": {
      "text/plain": "      ID OKE województwo - nazwa powiat - nazwa Gmina/Dzielnica - nazwa  \\\n0          7         Mazowieckie   Białobrzeski             Białobrzegi   \n1          7         Mazowieckie   Białobrzeski             Białobrzegi   \n2          7         Mazowieckie   Białobrzeski                  Promna   \n3          7         Mazowieckie   Białobrzeski                  Promna   \n4          7         Mazowieckie   Białobrzeski                  Promna   \n...      ...                 ...            ...                     ...   \n1683       7         Mazowieckie    Żyrardowski                Żyrardów   \n1684       7         Mazowieckie    Żyrardowski                Żyrardów   \n1685       7         Mazowieckie    Żyrardowski                Żyrardów   \n1686       7         Mazowieckie    Żyrardowski                Żyrardów   \n1687       7         Mazowieckie    Żyrardowski                Żyrardów   \n\n           Typ gminy  Kod teryt gminy    RSPO rodzaj placówki\\n czy publiczna  \\\n0     Obszar wiejski          1401015   53424     dla młodzieży           Tak   \n1             Miasto          1401014   53602     dla młodzieży           Tak   \n2      Gmina wiejska          1401022   26129     dla młodzieży           Tak   \n3      Gmina wiejska          1401022   31929     dla młodzieży           Tak   \n4      Gmina wiejska          1401022   26130     dla młodzieży           Tak   \n...              ...              ...     ...               ...           ...   \n1683   Gmina miejska          1438011   31353     dla młodzieży           Tak   \n1684   Gmina miejska          1438011   42560     dla młodzieży           Nie   \n1685   Gmina miejska          1438011   29970     dla młodzieży           Tak   \n1686   Gmina miejska          1438011   30368     dla młodzieży           Tak   \n1687   Gmina miejska          1438011  264325     dla młodzieży           Nie   \n\n                                           Nazwa szkoły  ... pol_mediana  \\\n0     PUBLICZNA SZKOŁA PODSTAWOWA IM. JANUSZA KORCZA...  ...        53.0   \n1     PUBLICZNA SZKOŁA PODSTAWOWA NR 1 IM. KOMISJI E...  ...        64.0   \n2     PUBLICZNA SZKOŁA PODSTAWOWA IM. MARII KONOPNIC...  ...        47.0   \n3     PUBLICZNA SZKOŁA PODSTAWOWA IM. WŁADYSŁAWA ROS...  ...        47.0   \n4     PUBLICZNA SZKOŁA PODSTAWOWA IM. TADEUSZA KIERZ...  ...        51.0   \n...                                                 ...  ...         ...   \n1683  SZKOŁA PODSTAWOWA NR 4 IM. MIKOŁAJA REJA W ŻYR...  ...        64.0   \n1684  SPOŁECZNA SZKOŁA PODSTAWOWA NR 2 IM. PAWŁA HUL...  ...        71.0   \n1685  SZKOŁA PODSTAWOWA NR 1 Z ODDZIAŁAMI INTEGRACYJ...  ...        64.0   \n1686  SZKOŁA PODSTAWOWA NR 2 IM. MARII KONOPNICKIEJ ...  ...        34.5   \n1687  NIEPUBLICZNA SZKOŁA PODSTAWOWA NR 1 IM. KRZYSZ...  ...        78.0   \n\n     pol_modalna  mat_wynik średni  mat_odchylenie standardowe  mat_mediana  \\\n0           53.0         49.666667                   27.686740         50.0   \n1           62.0         56.115108                   29.856028         56.0   \n2            7.0         38.315789                   27.045873         28.0   \n3           33.0         33.904762                   21.260078         28.0   \n4           27.0         50.823529                   24.838858         56.0   \n...          ...               ...                         ...          ...   \n1683        62.0         54.684932                   27.274795         56.0   \n1684        80.0         81.333333                   22.784010         96.0   \n1685        64.0         52.056338                   32.262955         48.0   \n1686        16.0         33.142857                   24.444857         24.0   \n1687        78.0         85.000000                   13.674794         88.0   \n\n      mat_modalna  ang_wynik średni  ang_odchylenie standardowe  ang_mediana  \\\n0            16.0         64.470588                   30.588575         75.0   \n1            16.0         59.422222                   30.036389         62.0   \n2            24.0         44.705882                   28.976186         33.0   \n3            16.0         32.750000                   23.792593         22.0   \n4            24.0         54.235294                   29.508781         55.0   \n...           ...               ...                         ...          ...   \n1683         28.0         67.094595                   29.791242         76.0   \n1684         96.0         78.444444                   20.537830         85.0   \n1685         20.0         65.194444                   32.745500         80.0   \n1686         28.0         40.533333                   29.520313         25.0   \n1687         72.0         98.125000                    2.368412         99.0   \n\n      ang_modalna  \n0            96.0  \n1            98.0  \n2            20.0  \n3            16.0  \n4            16.0  \n...           ...  \n1683        100.0  \n1684         71.0  \n1685        100.0  \n1686         13.0  \n1687        100.0  \n\n[1688 rows x 24 columns]",
      "text/html": "<div>\n<style scoped>\n    .dataframe tbody tr th:only-of-type {\n        vertical-align: middle;\n    }\n\n    .dataframe tbody tr th {\n        vertical-align: top;\n    }\n\n    .dataframe thead th {\n        text-align: right;\n    }\n</style>\n<table border=\"1\" class=\"dataframe\">\n  <thead>\n    <tr style=\"text-align: right;\">\n      <th></th>\n      <th>ID OKE</th>\n      <th>województwo - nazwa</th>\n      <th>powiat - nazwa</th>\n      <th>Gmina/Dzielnica - nazwa</th>\n      <th>Typ gminy</th>\n      <th>Kod teryt gminy</th>\n      <th>RSPO</th>\n      <th>rodzaj placówki\\n</th>\n      <th>czy publiczna</th>\n      <th>Nazwa szkoły</th>\n      <th>...</th>\n      <th>pol_mediana</th>\n      <th>pol_modalna</th>\n      <th>mat_wynik średni</th>\n      <th>mat_odchylenie standardowe</th>\n      <th>mat_mediana</th>\n      <th>mat_modalna</th>\n      <th>ang_wynik średni</th>\n      <th>ang_odchylenie standardowe</th>\n      <th>ang_mediana</th>\n      <th>ang_modalna</th>\n    </tr>\n  </thead>\n  <tbody>\n    <tr>\n      <th>0</th>\n      <td>7</td>\n      <td>Mazowieckie</td>\n      <td>Białobrzeski</td>\n      <td>Białobrzegi</td>\n      <td>Obszar wiejski</td>\n      <td>1401015</td>\n      <td>53424</td>\n      <td>dla młodzieży</td>\n      <td>Tak</td>\n      <td>PUBLICZNA SZKOŁA PODSTAWOWA IM. JANUSZA KORCZA...</td>\n      <td>...</td>\n      <td>53.0</td>\n      <td>53.0</td>\n      <td>49.666667</td>\n      <td>27.686740</td>\n      <td>50.0</td>\n      <td>16.0</td>\n      <td>64.470588</td>\n      <td>30.588575</td>\n      <td>75.0</td>\n      <td>96.0</td>\n    </tr>\n    <tr>\n      <th>1</th>\n      <td>7</td>\n      <td>Mazowieckie</td>\n      <td>Białobrzeski</td>\n      <td>Białobrzegi</td>\n      <td>Miasto</td>\n      <td>1401014</td>\n      <td>53602</td>\n      <td>dla młodzieży</td>\n      <td>Tak</td>\n      <td>PUBLICZNA SZKOŁA PODSTAWOWA NR 1 IM. KOMISJI E...</td>\n      <td>...</td>\n      <td>64.0</td>\n      <td>62.0</td>\n      <td>56.115108</td>\n      <td>29.856028</td>\n      <td>56.0</td>\n      <td>16.0</td>\n      <td>59.422222</td>\n      <td>30.036389</td>\n      <td>62.0</td>\n      <td>98.0</td>\n    </tr>\n    <tr>\n      <th>2</th>\n      <td>7</td>\n      <td>Mazowieckie</td>\n      <td>Białobrzeski</td>\n      <td>Promna</td>\n      <td>Gmina wiejska</td>\n      <td>1401022</td>\n      <td>26129</td>\n      <td>dla młodzieży</td>\n      <td>Tak</td>\n      <td>PUBLICZNA SZKOŁA PODSTAWOWA IM. MARII KONOPNIC...</td>\n      <td>...</td>\n      <td>47.0</td>\n      <td>7.0</td>\n      <td>38.315789</td>\n      <td>27.045873</td>\n      <td>28.0</td>\n      <td>24.0</td>\n      <td>44.705882</td>\n      <td>28.976186</td>\n      <td>33.0</td>\n      <td>20.0</td>\n    </tr>\n    <tr>\n      <th>3</th>\n      <td>7</td>\n      <td>Mazowieckie</td>\n      <td>Białobrzeski</td>\n      <td>Promna</td>\n      <td>Gmina wiejska</td>\n      <td>1401022</td>\n      <td>31929</td>\n      <td>dla młodzieży</td>\n      <td>Tak</td>\n      <td>PUBLICZNA SZKOŁA PODSTAWOWA IM. WŁADYSŁAWA ROS...</td>\n      <td>...</td>\n      <td>47.0</td>\n      <td>33.0</td>\n      <td>33.904762</td>\n      <td>21.260078</td>\n      <td>28.0</td>\n      <td>16.0</td>\n      <td>32.750000</td>\n      <td>23.792593</td>\n      <td>22.0</td>\n      <td>16.0</td>\n    </tr>\n    <tr>\n      <th>4</th>\n      <td>7</td>\n      <td>Mazowieckie</td>\n      <td>Białobrzeski</td>\n      <td>Promna</td>\n      <td>Gmina wiejska</td>\n      <td>1401022</td>\n      <td>26130</td>\n      <td>dla młodzieży</td>\n      <td>Tak</td>\n      <td>PUBLICZNA SZKOŁA PODSTAWOWA IM. TADEUSZA KIERZ...</td>\n      <td>...</td>\n      <td>51.0</td>\n      <td>27.0</td>\n      <td>50.823529</td>\n      <td>24.838858</td>\n      <td>56.0</td>\n      <td>24.0</td>\n      <td>54.235294</td>\n      <td>29.508781</td>\n      <td>55.0</td>\n      <td>16.0</td>\n    </tr>\n    <tr>\n      <th>...</th>\n      <td>...</td>\n      <td>...</td>\n      <td>...</td>\n      <td>...</td>\n      <td>...</td>\n      <td>...</td>\n      <td>...</td>\n      <td>...</td>\n      <td>...</td>\n      <td>...</td>\n      <td>...</td>\n      <td>...</td>\n      <td>...</td>\n      <td>...</td>\n      <td>...</td>\n      <td>...</td>\n      <td>...</td>\n      <td>...</td>\n      <td>...</td>\n      <td>...</td>\n      <td>...</td>\n    </tr>\n    <tr>\n      <th>1683</th>\n      <td>7</td>\n      <td>Mazowieckie</td>\n      <td>Żyrardowski</td>\n      <td>Żyrardów</td>\n      <td>Gmina miejska</td>\n      <td>1438011</td>\n      <td>31353</td>\n      <td>dla młodzieży</td>\n      <td>Tak</td>\n      <td>SZKOŁA PODSTAWOWA NR 4 IM. MIKOŁAJA REJA W ŻYR...</td>\n      <td>...</td>\n      <td>64.0</td>\n      <td>62.0</td>\n      <td>54.684932</td>\n      <td>27.274795</td>\n      <td>56.0</td>\n      <td>28.0</td>\n      <td>67.094595</td>\n      <td>29.791242</td>\n      <td>76.0</td>\n      <td>100.0</td>\n    </tr>\n    <tr>\n      <th>1684</th>\n      <td>7</td>\n      <td>Mazowieckie</td>\n      <td>Żyrardowski</td>\n      <td>Żyrardów</td>\n      <td>Gmina miejska</td>\n      <td>1438011</td>\n      <td>42560</td>\n      <td>dla młodzieży</td>\n      <td>Nie</td>\n      <td>SPOŁECZNA SZKOŁA PODSTAWOWA NR 2 IM. PAWŁA HUL...</td>\n      <td>...</td>\n      <td>71.0</td>\n      <td>80.0</td>\n      <td>81.333333</td>\n      <td>22.784010</td>\n      <td>96.0</td>\n      <td>96.0</td>\n      <td>78.444444</td>\n      <td>20.537830</td>\n      <td>85.0</td>\n      <td>71.0</td>\n    </tr>\n    <tr>\n      <th>1685</th>\n      <td>7</td>\n      <td>Mazowieckie</td>\n      <td>Żyrardowski</td>\n      <td>Żyrardów</td>\n      <td>Gmina miejska</td>\n      <td>1438011</td>\n      <td>29970</td>\n      <td>dla młodzieży</td>\n      <td>Tak</td>\n      <td>SZKOŁA PODSTAWOWA NR 1 Z ODDZIAŁAMI INTEGRACYJ...</td>\n      <td>...</td>\n      <td>64.0</td>\n      <td>64.0</td>\n      <td>52.056338</td>\n      <td>32.262955</td>\n      <td>48.0</td>\n      <td>20.0</td>\n      <td>65.194444</td>\n      <td>32.745500</td>\n      <td>80.0</td>\n      <td>100.0</td>\n    </tr>\n    <tr>\n      <th>1686</th>\n      <td>7</td>\n      <td>Mazowieckie</td>\n      <td>Żyrardowski</td>\n      <td>Żyrardów</td>\n      <td>Gmina miejska</td>\n      <td>1438011</td>\n      <td>30368</td>\n      <td>dla młodzieży</td>\n      <td>Tak</td>\n      <td>SZKOŁA PODSTAWOWA NR 2 IM. MARII KONOPNICKIEJ ...</td>\n      <td>...</td>\n      <td>34.5</td>\n      <td>16.0</td>\n      <td>33.142857</td>\n      <td>24.444857</td>\n      <td>24.0</td>\n      <td>28.0</td>\n      <td>40.533333</td>\n      <td>29.520313</td>\n      <td>25.0</td>\n      <td>13.0</td>\n    </tr>\n    <tr>\n      <th>1687</th>\n      <td>7</td>\n      <td>Mazowieckie</td>\n      <td>Żyrardowski</td>\n      <td>Żyrardów</td>\n      <td>Gmina miejska</td>\n      <td>1438011</td>\n      <td>264325</td>\n      <td>dla młodzieży</td>\n      <td>Nie</td>\n      <td>NIEPUBLICZNA SZKOŁA PODSTAWOWA NR 1 IM. KRZYSZ...</td>\n      <td>...</td>\n      <td>78.0</td>\n      <td>78.0</td>\n      <td>85.000000</td>\n      <td>13.674794</td>\n      <td>88.0</td>\n      <td>72.0</td>\n      <td>98.125000</td>\n      <td>2.368412</td>\n      <td>99.0</td>\n      <td>100.0</td>\n    </tr>\n  </tbody>\n</table>\n<p>1688 rows × 24 columns</p>\n</div>"
     },
     "execution_count": 26,
     "metadata": {},
     "output_type": "execute_result"
    }
   ],
   "source": [
    "merged = pd.merge(df_raw_pol ,df_raw_mat, on=schools_col_names)\n",
    "df_final = pd.merge(merged ,df_raw_ang, on=schools_col_names)\n",
    "df_final"
   ],
   "metadata": {
    "collapsed": false,
    "ExecuteTime": {
     "end_time": "2023-10-10T13:20:31.112321300Z",
     "start_time": "2023-10-10T13:20:31.060977100Z"
    }
   }
  },
  {
   "cell_type": "markdown",
   "source": [
    "Cleaning column names."
   ],
   "metadata": {
    "collapsed": false
   }
  },
  {
   "cell_type": "code",
   "execution_count": 27,
   "outputs": [],
   "source": [
    "#df_final = final.reset_index(drop=True).copy()\n",
    "df_final['Ulica nr'] = df_final['Ulica nr'].str.replace('ul. ', '', regex=False)\n",
    "df_final['Nazwa szkoły'] = df_final['Nazwa szkoły'].str.replace('SZKOŁA PODSTAWOWA', 'SP', regex=False)"
   ],
   "metadata": {
    "collapsed": false,
    "ExecuteTime": {
     "end_time": "2023-10-10T13:21:08.208090500Z",
     "start_time": "2023-10-10T13:21:08.192524700Z"
    }
   }
  },
  {
   "cell_type": "code",
   "execution_count": 28,
   "outputs": [
    {
     "data": {
      "text/plain": "                                           Nazwa szkoły  \\\n0            PUBLICZNA SP IM. JANUSZA KORCZAKA W SUCHEJ   \n1     PUBLICZNA SP NR 1 IM. KOMISJI EDUKACJI NARODOW...   \n2      PUBLICZNA SP IM. MARII KONOPNICKIEJ W OLKOWICACH   \n3     PUBLICZNA SP IM. WŁADYSŁAWA ROSŁOŃCA W PRZYBYS...   \n4     PUBLICZNA SP IM. TADEUSZA KIERZKOWSKIEGO W PRO...   \n...                                                 ...   \n1683             SP NR 4 IM. MIKOŁAJA REJA W ŻYRARDOWIE   \n1684  SPOŁECZNA SP NR 2 IM. PAWŁA HULKI-LASKOWSKIEGO...   \n1685  SP NR 1 Z ODDZIAŁAMI INTEGRACYJNYMI I DWUJĘZYC...   \n1686        SP NR 2 IM. MARII KONOPNICKIEJ W ŻYRARDOWIE   \n1687  NIEPUBLICZNA SP NR 1 IM. KRZYSZTOFA KOLUMBA W ...   \n\n                       Ulica nr Gmina/Dzielnica - nazwa  \n0                Szlachecka 88A             Białobrzegi  \n1              Rzemieślnicza 21             Białobrzegi  \n2                            23                  Promna  \n3         Władysława Rosłońca 5                  Promna  \n4                            39                  Promna  \n...                         ...                     ...  \n1683          Radziwiłłowska 16                Żyrardów  \n1684           Armii Krajowej 3                Żyrardów  \n1685                   Jasna 11                Żyrardów  \n1686    Gabriela Narutowicza 35                Żyrardów  \n1687  Adama Mickiewicza 126/128                Żyrardów  \n\n[1688 rows x 3 columns]",
      "text/html": "<div>\n<style scoped>\n    .dataframe tbody tr th:only-of-type {\n        vertical-align: middle;\n    }\n\n    .dataframe tbody tr th {\n        vertical-align: top;\n    }\n\n    .dataframe thead th {\n        text-align: right;\n    }\n</style>\n<table border=\"1\" class=\"dataframe\">\n  <thead>\n    <tr style=\"text-align: right;\">\n      <th></th>\n      <th>Nazwa szkoły</th>\n      <th>Ulica nr</th>\n      <th>Gmina/Dzielnica - nazwa</th>\n    </tr>\n  </thead>\n  <tbody>\n    <tr>\n      <th>0</th>\n      <td>PUBLICZNA SP IM. JANUSZA KORCZAKA W SUCHEJ</td>\n      <td>Szlachecka 88A</td>\n      <td>Białobrzegi</td>\n    </tr>\n    <tr>\n      <th>1</th>\n      <td>PUBLICZNA SP NR 1 IM. KOMISJI EDUKACJI NARODOW...</td>\n      <td>Rzemieślnicza 21</td>\n      <td>Białobrzegi</td>\n    </tr>\n    <tr>\n      <th>2</th>\n      <td>PUBLICZNA SP IM. MARII KONOPNICKIEJ W OLKOWICACH</td>\n      <td>23</td>\n      <td>Promna</td>\n    </tr>\n    <tr>\n      <th>3</th>\n      <td>PUBLICZNA SP IM. WŁADYSŁAWA ROSŁOŃCA W PRZYBYS...</td>\n      <td>Władysława Rosłońca 5</td>\n      <td>Promna</td>\n    </tr>\n    <tr>\n      <th>4</th>\n      <td>PUBLICZNA SP IM. TADEUSZA KIERZKOWSKIEGO W PRO...</td>\n      <td>39</td>\n      <td>Promna</td>\n    </tr>\n    <tr>\n      <th>...</th>\n      <td>...</td>\n      <td>...</td>\n      <td>...</td>\n    </tr>\n    <tr>\n      <th>1683</th>\n      <td>SP NR 4 IM. MIKOŁAJA REJA W ŻYRARDOWIE</td>\n      <td>Radziwiłłowska 16</td>\n      <td>Żyrardów</td>\n    </tr>\n    <tr>\n      <th>1684</th>\n      <td>SPOŁECZNA SP NR 2 IM. PAWŁA HULKI-LASKOWSKIEGO...</td>\n      <td>Armii Krajowej 3</td>\n      <td>Żyrardów</td>\n    </tr>\n    <tr>\n      <th>1685</th>\n      <td>SP NR 1 Z ODDZIAŁAMI INTEGRACYJNYMI I DWUJĘZYC...</td>\n      <td>Jasna 11</td>\n      <td>Żyrardów</td>\n    </tr>\n    <tr>\n      <th>1686</th>\n      <td>SP NR 2 IM. MARII KONOPNICKIEJ W ŻYRARDOWIE</td>\n      <td>Gabriela Narutowicza 35</td>\n      <td>Żyrardów</td>\n    </tr>\n    <tr>\n      <th>1687</th>\n      <td>NIEPUBLICZNA SP NR 1 IM. KRZYSZTOFA KOLUMBA W ...</td>\n      <td>Adama Mickiewicza 126/128</td>\n      <td>Żyrardów</td>\n    </tr>\n  </tbody>\n</table>\n<p>1688 rows × 3 columns</p>\n</div>"
     },
     "execution_count": 28,
     "metadata": {},
     "output_type": "execute_result"
    }
   ],
   "source": [
    "df_final[['Nazwa szkoły', 'Ulica nr', 'Gmina/Dzielnica - nazwa']]"
   ],
   "metadata": {
    "collapsed": false,
    "ExecuteTime": {
     "end_time": "2023-10-10T13:21:09.462644100Z",
     "start_time": "2023-10-10T13:21:09.423688400Z"
    }
   }
  },
  {
   "cell_type": "markdown",
   "source": [
    "Find and add coordinates of the school to the final dataset."
   ],
   "metadata": {
    "collapsed": false
   }
  },
  {
   "cell_type": "code",
   "execution_count": 56,
   "outputs": [],
   "source": [
    "from geopy.geocoders import Nominatim"
   ],
   "metadata": {
    "collapsed": false,
    "ExecuteTime": {
     "end_time": "2023-10-10T13:32:47.454148500Z",
     "start_time": "2023-10-10T13:32:47.350513600Z"
    }
   }
  },
  {
   "cell_type": "code",
   "execution_count": 57,
   "outputs": [],
   "source": [
    "def get_coordinates(row):\n",
    "    try:\n",
    "        geolocator = Nominatim(user_agent=\"waw_schools\")\n",
    "        address = row['Ulica nr']+ ' ' + row['Gmina/Dzielnica - nazwa']\n",
    "        loc = geolocator.geocode(address)\n",
    "        row['lat'] = loc.latitude\n",
    "        row['long'] = loc.longitude\n",
    "        return row\n",
    "    except:\n",
    "        return np.NaN"
   ],
   "metadata": {
    "collapsed": false,
    "ExecuteTime": {
     "end_time": "2023-10-10T13:32:47.967809300Z",
     "start_time": "2023-10-10T13:32:47.946286800Z"
    }
   }
  },
  {
   "cell_type": "code",
   "execution_count": 58,
   "outputs": [],
   "source": [
    "points = df_final.apply(get_coordinates, axis=1)"
   ],
   "metadata": {
    "collapsed": false,
    "ExecuteTime": {
     "end_time": "2023-10-10T13:47:14.509829200Z",
     "start_time": "2023-10-10T13:32:54.395910700Z"
    }
   }
  },
  {
   "cell_type": "markdown",
   "source": [
    "Create a dedicated dataset with school locations only."
   ],
   "metadata": {
    "collapsed": false
   }
  },
  {
   "cell_type": "code",
   "execution_count": 70,
   "outputs": [
    {
     "name": "stderr",
     "output_type": "stream",
     "text": [
      "C:\\Users\\User\\AppData\\Local\\Temp\\ipykernel_4488\\2680255836.py:2: SettingWithCopyWarning: \n",
      "A value is trying to be set on a copy of a slice from a DataFrame\n",
      "\n",
      "See the caveats in the documentation: https://pandas.pydata.org/pandas-docs/stable/user_guide/indexing.html#returning-a-view-versus-a-copy\n",
      "  schools_geolocation.dropna(subset= ['lat', 'long'], inplace=True)\n"
     ]
    }
   ],
   "source": [
    "schools_geolocation = points[['Nazwa szkoły','Ulica nr', 'powiat - nazwa', 'Gmina/Dzielnica - nazwa', 'lat', 'long']]\n",
    "schools_geolocation.dropna(subset= ['lat', 'long'], inplace=True)"
   ],
   "metadata": {
    "collapsed": false,
    "ExecuteTime": {
     "end_time": "2023-10-10T14:03:07.850826500Z",
     "start_time": "2023-10-10T14:03:07.840504500Z"
    }
   }
  },
  {
   "cell_type": "code",
   "execution_count": 71,
   "outputs": [],
   "source": [
    "schools_geolocation.to_csv('schools_geolocation.csv', index=False)"
   ],
   "metadata": {
    "collapsed": false,
    "ExecuteTime": {
     "end_time": "2023-10-10T14:03:13.345355200Z",
     "start_time": "2023-10-10T14:03:13.330148200Z"
    }
   }
  },
  {
   "cell_type": "markdown",
   "source": [
    "Create the final dataset."
   ],
   "metadata": {
    "collapsed": false
   }
  },
  {
   "cell_type": "code",
   "execution_count": 85,
   "outputs": [
    {
     "data": {
      "text/plain": "['Nazwa szkoły', 'Ulica nr', 'powiat - nazwa', 'Gmina/Dzielnica - nazwa']"
     },
     "execution_count": 85,
     "metadata": {},
     "output_type": "execute_result"
    }
   ],
   "source": [
    "merge_on = schools_geolocation.columns[:-2].to_list()\n",
    "merge_on"
   ],
   "metadata": {
    "collapsed": false,
    "ExecuteTime": {
     "end_time": "2023-10-10T14:07:55.795172400Z",
     "start_time": "2023-10-10T14:07:55.788588700Z"
    }
   }
  },
  {
   "cell_type": "code",
   "execution_count": 86,
   "outputs": [
    {
     "data": {
      "text/plain": "      ID OKE województwo - nazwa powiat - nazwa Gmina/Dzielnica - nazwa  \\\n0          7         Mazowieckie   Białobrzeski             Białobrzegi   \n1          7         Mazowieckie   Białobrzeski             Białobrzegi   \n2          7         Mazowieckie   Białobrzeski                  Promna   \n3          7         Mazowieckie   Białobrzeski                  Promna   \n4          7         Mazowieckie   Białobrzeski                  Promna   \n...      ...                 ...            ...                     ...   \n1658       7         Mazowieckie    Żyrardowski                Żyrardów   \n1659       7         Mazowieckie    Żyrardowski                Żyrardów   \n1660       7         Mazowieckie    Żyrardowski                Żyrardów   \n1661       7         Mazowieckie    Żyrardowski                Żyrardów   \n1662       7         Mazowieckie    Żyrardowski                Żyrardów   \n\n           Typ gminy  Kod teryt gminy    RSPO rodzaj placówki\\n czy publiczna  \\\n0     Obszar wiejski          1401015   53424     dla młodzieży           Tak   \n1             Miasto          1401014   53602     dla młodzieży           Tak   \n2      Gmina wiejska          1401022   26129     dla młodzieży           Tak   \n3      Gmina wiejska          1401022   31929     dla młodzieży           Tak   \n4      Gmina wiejska          1401022   26130     dla młodzieży           Tak   \n...              ...              ...     ...               ...           ...   \n1658   Gmina miejska          1438011   31353     dla młodzieży           Tak   \n1659   Gmina miejska          1438011   42560     dla młodzieży           Nie   \n1660   Gmina miejska          1438011   29970     dla młodzieży           Tak   \n1661   Gmina miejska          1438011   30368     dla młodzieży           Tak   \n1662   Gmina miejska          1438011  264325     dla młodzieży           Nie   \n\n                                           Nazwa szkoły  ... mat_wynik średni  \\\n0            PUBLICZNA SP IM. JANUSZA KORCZAKA W SUCHEJ  ...        49.666667   \n1     PUBLICZNA SP NR 1 IM. KOMISJI EDUKACJI NARODOW...  ...        56.115108   \n2      PUBLICZNA SP IM. MARII KONOPNICKIEJ W OLKOWICACH  ...        38.315789   \n3     PUBLICZNA SP IM. WŁADYSŁAWA ROSŁOŃCA W PRZYBYS...  ...        33.904762   \n4     PUBLICZNA SP IM. TADEUSZA KIERZKOWSKIEGO W PRO...  ...        50.823529   \n...                                                 ...  ...              ...   \n1658             SP NR 4 IM. MIKOŁAJA REJA W ŻYRARDOWIE  ...        54.684932   \n1659  SPOŁECZNA SP NR 2 IM. PAWŁA HULKI-LASKOWSKIEGO...  ...        81.333333   \n1660  SP NR 1 Z ODDZIAŁAMI INTEGRACYJNYMI I DWUJĘZYC...  ...        52.056338   \n1661        SP NR 2 IM. MARII KONOPNICKIEJ W ŻYRARDOWIE  ...        33.142857   \n1662  NIEPUBLICZNA SP NR 1 IM. KRZYSZTOFA KOLUMBA W ...  ...        85.000000   \n\n     mat_odchylenie standardowe  mat_mediana  mat_modalna  ang_wynik średni  \\\n0                     27.686740         50.0         16.0         64.470588   \n1                     29.856028         56.0         16.0         59.422222   \n2                     27.045873         28.0         24.0         44.705882   \n3                     21.260078         28.0         16.0         32.750000   \n4                     24.838858         56.0         24.0         54.235294   \n...                         ...          ...          ...               ...   \n1658                  27.274795         56.0         28.0         67.094595   \n1659                  22.784010         96.0         96.0         78.444444   \n1660                  32.262955         48.0         20.0         65.194444   \n1661                  24.444857         24.0         28.0         40.533333   \n1662                  13.674794         88.0         72.0         98.125000   \n\n      ang_odchylenie standardowe  ang_mediana  ang_modalna        lat  \\\n0                      30.588575         75.0         96.0  51.616990   \n1                      30.036389         62.0         98.0  51.645062   \n2                      28.976186         33.0         20.0  51.680623   \n3                      23.792593         22.0         16.0  51.665523   \n4                      29.508781         55.0         16.0  51.682349   \n...                          ...          ...          ...        ...   \n1658                   29.791242         76.0        100.0  52.049453   \n1659                   20.537830         85.0         71.0  52.057470   \n1660                   32.745500         80.0        100.0  52.060346   \n1661                   29.520313         25.0         13.0  52.057303   \n1662                    2.368412         99.0        100.0  52.039240   \n\n           long  \n0     20.953985  \n1     20.953486  \n2     20.960397  \n3     20.854947  \n4     20.952224  \n...         ...  \n1658  20.436861  \n1659  20.434119  \n1660  20.435760  \n1661  20.438488  \n1662  20.454950  \n\n[1663 rows x 26 columns]",
      "text/html": "<div>\n<style scoped>\n    .dataframe tbody tr th:only-of-type {\n        vertical-align: middle;\n    }\n\n    .dataframe tbody tr th {\n        vertical-align: top;\n    }\n\n    .dataframe thead th {\n        text-align: right;\n    }\n</style>\n<table border=\"1\" class=\"dataframe\">\n  <thead>\n    <tr style=\"text-align: right;\">\n      <th></th>\n      <th>ID OKE</th>\n      <th>województwo - nazwa</th>\n      <th>powiat - nazwa</th>\n      <th>Gmina/Dzielnica - nazwa</th>\n      <th>Typ gminy</th>\n      <th>Kod teryt gminy</th>\n      <th>RSPO</th>\n      <th>rodzaj placówki\\n</th>\n      <th>czy publiczna</th>\n      <th>Nazwa szkoły</th>\n      <th>...</th>\n      <th>mat_wynik średni</th>\n      <th>mat_odchylenie standardowe</th>\n      <th>mat_mediana</th>\n      <th>mat_modalna</th>\n      <th>ang_wynik średni</th>\n      <th>ang_odchylenie standardowe</th>\n      <th>ang_mediana</th>\n      <th>ang_modalna</th>\n      <th>lat</th>\n      <th>long</th>\n    </tr>\n  </thead>\n  <tbody>\n    <tr>\n      <th>0</th>\n      <td>7</td>\n      <td>Mazowieckie</td>\n      <td>Białobrzeski</td>\n      <td>Białobrzegi</td>\n      <td>Obszar wiejski</td>\n      <td>1401015</td>\n      <td>53424</td>\n      <td>dla młodzieży</td>\n      <td>Tak</td>\n      <td>PUBLICZNA SP IM. JANUSZA KORCZAKA W SUCHEJ</td>\n      <td>...</td>\n      <td>49.666667</td>\n      <td>27.686740</td>\n      <td>50.0</td>\n      <td>16.0</td>\n      <td>64.470588</td>\n      <td>30.588575</td>\n      <td>75.0</td>\n      <td>96.0</td>\n      <td>51.616990</td>\n      <td>20.953985</td>\n    </tr>\n    <tr>\n      <th>1</th>\n      <td>7</td>\n      <td>Mazowieckie</td>\n      <td>Białobrzeski</td>\n      <td>Białobrzegi</td>\n      <td>Miasto</td>\n      <td>1401014</td>\n      <td>53602</td>\n      <td>dla młodzieży</td>\n      <td>Tak</td>\n      <td>PUBLICZNA SP NR 1 IM. KOMISJI EDUKACJI NARODOW...</td>\n      <td>...</td>\n      <td>56.115108</td>\n      <td>29.856028</td>\n      <td>56.0</td>\n      <td>16.0</td>\n      <td>59.422222</td>\n      <td>30.036389</td>\n      <td>62.0</td>\n      <td>98.0</td>\n      <td>51.645062</td>\n      <td>20.953486</td>\n    </tr>\n    <tr>\n      <th>2</th>\n      <td>7</td>\n      <td>Mazowieckie</td>\n      <td>Białobrzeski</td>\n      <td>Promna</td>\n      <td>Gmina wiejska</td>\n      <td>1401022</td>\n      <td>26129</td>\n      <td>dla młodzieży</td>\n      <td>Tak</td>\n      <td>PUBLICZNA SP IM. MARII KONOPNICKIEJ W OLKOWICACH</td>\n      <td>...</td>\n      <td>38.315789</td>\n      <td>27.045873</td>\n      <td>28.0</td>\n      <td>24.0</td>\n      <td>44.705882</td>\n      <td>28.976186</td>\n      <td>33.0</td>\n      <td>20.0</td>\n      <td>51.680623</td>\n      <td>20.960397</td>\n    </tr>\n    <tr>\n      <th>3</th>\n      <td>7</td>\n      <td>Mazowieckie</td>\n      <td>Białobrzeski</td>\n      <td>Promna</td>\n      <td>Gmina wiejska</td>\n      <td>1401022</td>\n      <td>31929</td>\n      <td>dla młodzieży</td>\n      <td>Tak</td>\n      <td>PUBLICZNA SP IM. WŁADYSŁAWA ROSŁOŃCA W PRZYBYS...</td>\n      <td>...</td>\n      <td>33.904762</td>\n      <td>21.260078</td>\n      <td>28.0</td>\n      <td>16.0</td>\n      <td>32.750000</td>\n      <td>23.792593</td>\n      <td>22.0</td>\n      <td>16.0</td>\n      <td>51.665523</td>\n      <td>20.854947</td>\n    </tr>\n    <tr>\n      <th>4</th>\n      <td>7</td>\n      <td>Mazowieckie</td>\n      <td>Białobrzeski</td>\n      <td>Promna</td>\n      <td>Gmina wiejska</td>\n      <td>1401022</td>\n      <td>26130</td>\n      <td>dla młodzieży</td>\n      <td>Tak</td>\n      <td>PUBLICZNA SP IM. TADEUSZA KIERZKOWSKIEGO W PRO...</td>\n      <td>...</td>\n      <td>50.823529</td>\n      <td>24.838858</td>\n      <td>56.0</td>\n      <td>24.0</td>\n      <td>54.235294</td>\n      <td>29.508781</td>\n      <td>55.0</td>\n      <td>16.0</td>\n      <td>51.682349</td>\n      <td>20.952224</td>\n    </tr>\n    <tr>\n      <th>...</th>\n      <td>...</td>\n      <td>...</td>\n      <td>...</td>\n      <td>...</td>\n      <td>...</td>\n      <td>...</td>\n      <td>...</td>\n      <td>...</td>\n      <td>...</td>\n      <td>...</td>\n      <td>...</td>\n      <td>...</td>\n      <td>...</td>\n      <td>...</td>\n      <td>...</td>\n      <td>...</td>\n      <td>...</td>\n      <td>...</td>\n      <td>...</td>\n      <td>...</td>\n      <td>...</td>\n    </tr>\n    <tr>\n      <th>1658</th>\n      <td>7</td>\n      <td>Mazowieckie</td>\n      <td>Żyrardowski</td>\n      <td>Żyrardów</td>\n      <td>Gmina miejska</td>\n      <td>1438011</td>\n      <td>31353</td>\n      <td>dla młodzieży</td>\n      <td>Tak</td>\n      <td>SP NR 4 IM. MIKOŁAJA REJA W ŻYRARDOWIE</td>\n      <td>...</td>\n      <td>54.684932</td>\n      <td>27.274795</td>\n      <td>56.0</td>\n      <td>28.0</td>\n      <td>67.094595</td>\n      <td>29.791242</td>\n      <td>76.0</td>\n      <td>100.0</td>\n      <td>52.049453</td>\n      <td>20.436861</td>\n    </tr>\n    <tr>\n      <th>1659</th>\n      <td>7</td>\n      <td>Mazowieckie</td>\n      <td>Żyrardowski</td>\n      <td>Żyrardów</td>\n      <td>Gmina miejska</td>\n      <td>1438011</td>\n      <td>42560</td>\n      <td>dla młodzieży</td>\n      <td>Nie</td>\n      <td>SPOŁECZNA SP NR 2 IM. PAWŁA HULKI-LASKOWSKIEGO...</td>\n      <td>...</td>\n      <td>81.333333</td>\n      <td>22.784010</td>\n      <td>96.0</td>\n      <td>96.0</td>\n      <td>78.444444</td>\n      <td>20.537830</td>\n      <td>85.0</td>\n      <td>71.0</td>\n      <td>52.057470</td>\n      <td>20.434119</td>\n    </tr>\n    <tr>\n      <th>1660</th>\n      <td>7</td>\n      <td>Mazowieckie</td>\n      <td>Żyrardowski</td>\n      <td>Żyrardów</td>\n      <td>Gmina miejska</td>\n      <td>1438011</td>\n      <td>29970</td>\n      <td>dla młodzieży</td>\n      <td>Tak</td>\n      <td>SP NR 1 Z ODDZIAŁAMI INTEGRACYJNYMI I DWUJĘZYC...</td>\n      <td>...</td>\n      <td>52.056338</td>\n      <td>32.262955</td>\n      <td>48.0</td>\n      <td>20.0</td>\n      <td>65.194444</td>\n      <td>32.745500</td>\n      <td>80.0</td>\n      <td>100.0</td>\n      <td>52.060346</td>\n      <td>20.435760</td>\n    </tr>\n    <tr>\n      <th>1661</th>\n      <td>7</td>\n      <td>Mazowieckie</td>\n      <td>Żyrardowski</td>\n      <td>Żyrardów</td>\n      <td>Gmina miejska</td>\n      <td>1438011</td>\n      <td>30368</td>\n      <td>dla młodzieży</td>\n      <td>Tak</td>\n      <td>SP NR 2 IM. MARII KONOPNICKIEJ W ŻYRARDOWIE</td>\n      <td>...</td>\n      <td>33.142857</td>\n      <td>24.444857</td>\n      <td>24.0</td>\n      <td>28.0</td>\n      <td>40.533333</td>\n      <td>29.520313</td>\n      <td>25.0</td>\n      <td>13.0</td>\n      <td>52.057303</td>\n      <td>20.438488</td>\n    </tr>\n    <tr>\n      <th>1662</th>\n      <td>7</td>\n      <td>Mazowieckie</td>\n      <td>Żyrardowski</td>\n      <td>Żyrardów</td>\n      <td>Gmina miejska</td>\n      <td>1438011</td>\n      <td>264325</td>\n      <td>dla młodzieży</td>\n      <td>Nie</td>\n      <td>NIEPUBLICZNA SP NR 1 IM. KRZYSZTOFA KOLUMBA W ...</td>\n      <td>...</td>\n      <td>85.000000</td>\n      <td>13.674794</td>\n      <td>88.0</td>\n      <td>72.0</td>\n      <td>98.125000</td>\n      <td>2.368412</td>\n      <td>99.0</td>\n      <td>100.0</td>\n      <td>52.039240</td>\n      <td>20.454950</td>\n    </tr>\n  </tbody>\n</table>\n<p>1663 rows × 26 columns</p>\n</div>"
     },
     "execution_count": 86,
     "metadata": {},
     "output_type": "execute_result"
    }
   ],
   "source": [
    "merged = pd.merge(df_final, schools_geolocation, on=merge_on)\n",
    "merged"
   ],
   "metadata": {
    "collapsed": false,
    "ExecuteTime": {
     "end_time": "2023-10-10T14:07:58.011320Z",
     "start_time": "2023-10-10T14:07:57.968794500Z"
    }
   }
  },
  {
   "cell_type": "code",
   "execution_count": 87,
   "outputs": [],
   "source": [
    "merged.to_csv('outputs/final_data_clean_2022.csv', sep=',', index=False)"
   ],
   "metadata": {
    "collapsed": false,
    "ExecuteTime": {
     "end_time": "2023-10-10T14:08:51.572568300Z",
     "start_time": "2023-10-10T14:08:51.523724600Z"
    }
   }
  },
  {
   "cell_type": "code",
   "execution_count": null,
   "outputs": [],
   "source": [],
   "metadata": {
    "collapsed": false
   }
  }
 ],
 "metadata": {
  "kernelspec": {
   "display_name": "Python 3",
   "language": "python",
   "name": "python3"
  },
  "language_info": {
   "codemirror_mode": {
    "name": "ipython",
    "version": 2
   },
   "file_extension": ".py",
   "mimetype": "text/x-python",
   "name": "python",
   "nbconvert_exporter": "python",
   "pygments_lexer": "ipython2",
   "version": "2.7.6"
  }
 },
 "nbformat": 4,
 "nbformat_minor": 0
}
